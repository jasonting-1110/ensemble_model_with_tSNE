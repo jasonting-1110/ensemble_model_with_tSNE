{
 "cells": [
  {
   "cell_type": "code",
   "execution_count": null,
   "metadata": {},
   "outputs": [],
   "source": [
    "import sys\n",
    "sys.path.append(r\"E:\\OCT\\dental OCT\\bare tooth\\ensemble_model_aug\\code\\required_funcs\") #存取所需函式的路徑"
   ]
  },
  {
   "cell_type": "code",
   "execution_count": null,
   "metadata": {},
   "outputs": [],
   "source": [
    "import importlib,load_h5\n",
    "# 確保加載最新版本\n",
    "importlib.reload(load_h5)"
   ]
  },
  {
   "cell_type": "markdown",
   "metadata": {},
   "source": [
    "生成並儲存train_data/test_data,train_labels/test_labels(如果已經有可匯入的h5檔，可跳略過此步，直接load)"
   ]
  },
  {
   "cell_type": "code",
   "execution_count": null,
   "metadata": {},
   "outputs": [],
   "source": [
    "import os, load_h5\n",
    "\n",
    "if __name__ == \"__main__\":\n",
    "    save_dir = r'E:\\OCT\\dental OCT\\bare tooth\\ensemble_model_aug\\code\\2024_8_13\\hdf5' # 替换为实际的保存路径\n",
    "    # 如果日期文件夹不存在，则创建它\n",
    "    if not os.path.exists(save_dir):\n",
    "        os.makedirs(save_dir)\n",
    "    \n",
    "    # train_nor_path = r'E:\\OCT\\dental OCT\\bare tooth\\ensemble_model_aug\\code\\2024_8_13\\train\\nor'\n",
    "    # test_nor_path = r'E:\\OCT\\dental OCT\\bare tooth\\ensemble_model_aug\\code\\2024_8_13\\test\\nor'\n",
    "    # train_cal_path = r'E:\\OCT\\dental OCT\\bare tooth\\ensemble_model_aug\\code\\2024_8_13\\train\\cal'\n",
    "    # test_cal_path = r'E:\\OCT\\dental OCT\\bare tooth\\ensemble_model_aug\\code\\2024_8_13\\test\\cal'\n",
    "\n",
    "    train_nor_path = r'E:\\OCT\\dental OCT\\bare tooth\\ensemble_model_aug\\code\\2024_8_13\\train_FOR_YOUR_LIFE\\nor'\n",
    "    test_nor_path = r'E:\\OCT\\dental OCT\\bare tooth\\ensemble_model_aug\\code\\2024_8_13\\test_FOR_YOUR_LIFE\\nor'\n",
    "    train_cal_path = r'E:\\OCT\\dental OCT\\bare tooth\\ensemble_model_aug\\code\\2024_8_13\\train_FOR_YOUR_LIFE\\cal'\n",
    "    test_cal_path = r'E:\\OCT\\dental OCT\\bare tooth\\ensemble_model_aug\\code\\2024_8_13\\test_FOR_YOUR_LIFE\\cal'\n",
    "\n",
    "    load_h5.generate_and_save_data(train_nor_path, train_cal_path, test_nor_path, test_cal_path, save_dir)"
   ]
  },
  {
   "cell_type": "markdown",
   "metadata": {},
   "source": [
    "批次讀取"
   ]
  },
  {
   "cell_type": "code",
   "execution_count": null,
   "metadata": {},
   "outputs": [],
   "source": [
    "import numpy as np\n",
    "\n",
    "if __name__ == \"__main__\":\n",
    "    \n",
    "    save_dir = r'E:\\OCT\\dental OCT\\bare tooth\\ensemble_model_aug\\code\\2024_8_13\\hdf5'\n",
    "    file_name=\"train_data.h5\"\n",
    "    batch_size = 3000  # 您可以根據需要調整批次大小(有可能設太大導致內存不足!)\n",
    "    date=\"2024-11-14\"\n",
    "\n",
    "    # 創建數據加載器\n",
    "data_loader = load_h5.HDF5DataLoader(save_dir, file_name,date,batch_size=batch_size)\n",
    "\n",
    "\n",
    "# 假设你的数据是使用 PyTorch 的 DataLoader 进行加载\n",
    "train_data = []\n",
    "train_labels = []\n",
    "\n",
    "# 遍歷數據\n",
    "for i, (batch_data, batch_labels) in enumerate(data_loader):\n",
    "    print(f\"處理批次 {i + 1}/{len(data_loader)}\") #class中有__len__才能使用len(data_loader)\n",
    "    print(f\"  數據形狀: {batch_data.shape}\")\n",
    "    print(f\"  標籤形狀: {batch_labels.shape}\")\n",
    "\n",
    "       # 将每个批次的数据添加到列表中\n",
    "    train_data.append(batch_data)\n",
    "    train_labels.append(batch_labels)\n",
    "\n",
    "# 将列表中的数据合并成一个张量(應用更全面)\n",
    "train_data = np.concatenate(train_data, axis=0)\n",
    "train_labels = np.concatenate(train_labels, axis=0)\n",
    "\n",
    "print(f\"最終測試數據形狀: {train_data.shape}\")\n",
    "print(f\"最終測試標籤形狀: {train_labels.shape}\")\n",
    "print(\"\\n數據處理完成\")\n"
   ]
  },
  {
   "cell_type": "code",
   "execution_count": null,
   "metadata": {},
   "outputs": [],
   "source": [
    "import numpy as np\n",
    "\n",
    "save_dir = r'E:\\OCT\\dental OCT\\bare tooth\\ensemble_model_aug\\code\\2024_8_13\\hdf5'\n",
    "file_name = 'test_data.h5'\n",
    "batch_size = 3000  # 您可以根據需要調整批次大小\n",
    "# date=\"2024-09-11\"\n",
    "date=\"2024-11-14\"\n",
    "\n",
    "# 創建數據加載器\n",
    "data_loader = load_h5.HDF5DataLoader(save_dir, file_name,date,batch_size=batch_size)\n",
    "\n",
    "\n",
    "# 假设你的数据是使用 PyTorch 的 DataLoader 进行加载\n",
    "test_data = []\n",
    "test_labels = []\n",
    "\n",
    "# 遍歷數據\n",
    "for i, (batch_data, batch_labels) in enumerate(data_loader):\n",
    "    print(f\"處理批次 {i + 1}/{len(data_loader)}\") #class中有__len__才能使用len(data_loader)\n",
    "    print(f\"  數據形狀: {batch_data.shape}\")\n",
    "    print(f\"  標籤形狀: {batch_labels.shape}\")\n",
    "\n",
    "       # 将每个批次的数据添加到列表中\n",
    "    test_data.append(batch_data)\n",
    "    test_labels.append(batch_labels)\n",
    "\n",
    "# 将列表中的数据合并成一个张量(應用更全面)\n",
    "test_data = np.concatenate(test_data, axis=0)\n",
    "test_labels = np.concatenate(test_labels, axis=0)\n",
    "\n",
    "print(f\"最終測試數據形狀: {test_data.shape}\")\n",
    "print(f\"最終測試標籤形狀: {test_labels.shape}\")\n",
    "\n",
    "print(\"\\n數據處理完成\")"
   ]
  },
  {
   "cell_type": "code",
   "execution_count": null,
   "metadata": {},
   "outputs": [],
   "source": [
    "import importlib\n",
    "\n",
    "# 添加函式檔案的路徑\n",
    "sys.path.append(r\"E:\\OCT\\dental OCT\\bare tooth\\ensemble_model_aug\\code\\required_funcs\")\n",
    "\n",
    "# 假設你的函式在 my_functions.py 中\n",
    "import tSNE\n",
    "\n",
    "# 確保加載最新版本\n",
    "importlib.reload(tSNE)"
   ]
  },
  {
   "cell_type": "code",
   "execution_count": null,
   "metadata": {},
   "outputs": [],
   "source": [
    "import keras\n",
    "from keras.models import load_model\n",
    "\n",
    "\n",
    "# 指定模型檔案路徑:記得從日期那邊微調路徑!\n",
    "\n",
    "model_path = r\"E:\\OCT\\dental OCT\\bare tooth\\ensemble_model_aug\\code\\2024_8_13\\best_results\\2024-11-17\\ensemble_ResNet50_VGG16_acc=0.8424.h5\"\n",
    "\n",
    "\n",
    "# 載入模型\n",
    "ensemble_model = load_model(model_path)\n",
    "\n",
    "\n",
    "#model太大造成error"
   ]
  },
  {
   "cell_type": "markdown",
   "metadata": {},
   "source": [
    "查看最後一層layer的名字，作為tSNE函式參數(執行tSNE出現no such layer error時適用)"
   ]
  },
  {
   "cell_type": "code",
   "execution_count": null,
   "metadata": {},
   "outputs": [],
   "source": [
    "from keras import backend as K\n",
    "def get_output_layer(model, layer_name):\n",
    "    # get the symbolic outputs of each \"key\" layer (we gave them unique names).\n",
    "    layer_dict = dict([(layer.name, layer) for layer in ensemble_model.layers])\n",
    "    layer = layer_dict[layer_name]\n",
    "    return layer\n",
    "\n",
    "print([(layer.name, layer) for layer in ensemble_model.layers])"
   ]
  },
  {
   "cell_type": "markdown",
   "metadata": {},
   "source": [
    "記得先把testing data npy轉檔為png，並執行完CAM_generation，生成疊加熱力圖後的gradCAM，才run tSNE圖"
   ]
  },
  {
   "cell_type": "code",
   "execution_count": null,
   "metadata": {},
   "outputs": [],
   "source": [
    "import cvt_to_png\n",
    "# 指定目錄路徑\n",
    "src_cal_folder = r'E:\\OCT\\dental OCT\\bare tooth\\ensemble_model_aug\\code\\2024_8_13\\test_FOR_YOUR_LIFE\\cal'\n",
    "png_cal_folder=r'E:\\OCT\\dental OCT\\bare tooth\\ensemble_model_aug\\code\\2024_8_13\\test_FOR_YOUR_LIFE\\cal_png'\n",
    "cvt_to_png.convert_npy_to_png(src_cal_folder,png_cal_folder)\n",
    "\n",
    "\n",
    "#8_13\n",
    "src_nor_folder = r'E:\\OCT\\dental OCT\\bare tooth\\ensemble_model_aug\\code\\2024_8_13\\test_FOR_YOUR_LIFE\\nor'\n",
    "png_nor_folder = r'E:\\OCT\\dental OCT\\bare tooth\\ensemble_model_aug\\code\\2024_8_13\\test_FOR_YOUR_LIFE\\nor_png'\n",
    "cvt_to_png.convert_npy_to_png(src_nor_folder,png_nor_folder)\n"
   ]
  },
  {
   "cell_type": "code",
   "execution_count": null,
   "metadata": {},
   "outputs": [],
   "source": [
    "import tSNE\n",
    "import os\n",
    "\n",
    "# Load images from folder\n",
    "cal_folder = r'E:\\OCT\\dental OCT\\bare tooth\\ensemble_model_aug\\code\\2024_8_13\\test_FOR_YOUR_LIFE\\cal_png'\n",
    "nor_folder = r'E:\\OCT\\dental OCT\\bare tooth\\ensemble_model_aug\\code\\2024_8_13\\test_FOR_YOUR_LIFE\\nor_png'\n",
    "cal_CAM_folder = r'E:\\OCT\\dental OCT\\bare tooth\\ensemble_model_aug\\code\\2024_8_13\\test_FOR_YOUR_LIFE\\cal_CAM'\n",
    "nor_CAM_folder = r'E:\\OCT\\dental OCT\\bare tooth\\ensemble_model_aug\\code\\2024_8_13\\test_FOR_YOUR_LIFE\\nor_CAM'\n",
    "\n",
    "#save tSNE img\n",
    "save_dir = r'E:\\OCT\\dental OCT\\bare tooth\\ensemble_model_aug\\code\\2024_8_13\\tSNE'\n",
    "os.makedirs(save_dir,exist_ok=True)             \n",
    "\n",
    "\n",
    "\n",
    "\n",
    "# tSNE.plot_tSNE_combined(ensemble_model, 'dense_2', [test_data,test_data], test_labels, save_dir, cal_folder, nor_folder,cal_CAM_folder,nor_CAM_folder)\n",
    "\n",
    "tSNE.keySearch_optimize(ensemble_model, 'dense_62', [test_data,test_data], test_labels, save_dir, cal_folder, nor_folder,cal_CAM_folder,nor_CAM_folder)\n",
    "\n",
    "\n",
    "\n",
    "#專門用於單純用resnet50 or vgg16進行transfer learning\n",
    "# tSNE.keySearch_optimize(ensemble_model, 'dense_2', test_data, test_labels, save_dir, cal_folder, nor_folder,cal_CAM_folder,nor_CAM_folder)\n",
    "  \n",
    "# init設random 或pca執行速度差不多，perp 設為n/100，n為測試樣本總數目\n",
    "#可考慮比較不同Perp的可視化圖形:10-60\n",
    "\n",
    "#Perplexity我設10~50，有甚麼臨床意義?\n",
    "    "
   ]
  }
 ],
 "metadata": {
  "language_info": {
   "name": "python"
  }
 },
 "nbformat": 4,
 "nbformat_minor": 2
}
