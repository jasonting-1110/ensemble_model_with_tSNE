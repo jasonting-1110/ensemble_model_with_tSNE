{
 "cells": [
  {
   "cell_type": "code",
   "execution_count": 5,
   "metadata": {},
   "outputs": [
    {
     "name": "stderr",
     "output_type": "stream",
     "text": [
      "C:\\Users\\BOIL\\AppData\\Local\\Temp\\ipykernel_18024\\707971622.py:7: DeprecationWarning: Please use `zoom` from the `scipy.ndimage` namespace, the `scipy.ndimage.interpolation` namespace is deprecated.\n",
      "  from scipy.ndimage.interpolation import zoom\n"
     ]
    },
    {
     "name": "stdout",
     "output_type": "stream",
     "text": [
      "Have processed: 0, total: 994.\n",
      "Have processed: 50, total: 994.\n",
      "Have processed: 100, total: 994.\n",
      "Have processed: 150, total: 994.\n",
      "Have processed: 200, total: 994.\n",
      "Have processed: 250, total: 994.\n",
      "Have processed: 300, total: 994.\n",
      "Have processed: 350, total: 994.\n",
      "Have processed: 400, total: 994.\n",
      "Have processed: 450, total: 994.\n",
      "Have processed: 500, total: 994.\n",
      "Have processed: 550, total: 994.\n",
      "Have processed: 600, total: 994.\n",
      "Have processed: 650, total: 994.\n",
      "Have processed: 700, total: 994.\n",
      "Have processed: 750, total: 994.\n",
      "Have processed: 800, total: 994.\n",
      "Have processed: 850, total: 994.\n",
      "Have processed: 900, total: 994.\n",
      "Have processed: 950, total: 994.\n"
     ]
    }
   ],
   "source": [
    "import os\n",
    "import numpy as np\n",
    "import matplotlib.pyplot as plt\n",
    "import copy\n",
    "import time\n",
    "from pathlib import Path\n",
    "from scipy.ndimage.interpolation import zoom\n",
    "\n",
    "#讀取dat轉換為npy的data，經過resize後轉npy png，再存到該目錄\n",
    "base_path = r'\\\\BOIL-NAS\\homes\\311514061\\2024-5haveBG-SD-OCT dental calculus\\2024dentalCalculus\\supra8\\npy'\n",
    "\n",
    "file_save = r'\\\\BOIL-NAS\\homes\\311514061\\2024-5haveBG-SD-OCT dental calculus\\2024dentalCalculus\\supra8\\npy_resize'\n",
    "npy_save = r'\\\\BOIL-NAS\\homes\\311514061\\2024-5haveBG-SD-OCT dental calculus\\2024dentalCalculus\\supra8\\npy_resize\\npy'\n",
    "png_save = r'\\\\BOIL-NAS\\homes\\311514061\\2024-5haveBG-SD-OCT dental calculus\\2024dentalCalculus\\supra8\\npy_resize\\png'\n",
    "\n",
    "if Path(file_save).exists() is False:\n",
    "        os.makedirs(file_save)        \n",
    "if Path(npy_save).exists() is False:\n",
    "        os.makedirs(npy_save)\n",
    "if Path(png_save).exists() is False:\n",
    "        os.makedirs(png_save)       \n",
    "  \n",
    "\n",
    "\n",
    "\n",
    "for file_num, file_name in enumerate(os.listdir(base_path)):\n",
    "    if 'npy' in file_name:\n",
    "        if file_num%50 == 0:\n",
    "            print('Have processed: {}, total: {}.'.format(file_num, len(os.listdir(base_path))))\n",
    "        # filename = os.path.join(root, f)          \n",
    "        Bscan=np.load(base_path + '/'+ file_name)\n",
    "        image_resize = zoom(Bscan,[0.407,0.112], prefilter=False)   # 原圖大小(550,2000) => (224,224)  根據比例調整[]中數字     \n",
    "        \n",
    "        \n",
    "        # normalize image from 0 to 1\n",
    "        #image_resize = (image_resize - np.min(image_resize))/(np.max(image_resize) - np.min(image_resize))\n",
    "        plt.imsave(png_save + '/frame%d.png' %(file_num+1), image_resize, cmap='gray')\n",
    "        np.save(npy_save + '/frame%d.npy' %(file_num+1), image_resize, allow_pickle=False)"
   ]
  },
  {
   "cell_type": "code",
   "execution_count": null,
   "metadata": {},
   "outputs": [],
   "source": []
  }
 ],
 "metadata": {
  "kernelspec": {
   "display_name": "tf_2.5_py_3.7",
   "language": "python",
   "name": "python3"
  },
  "language_info": {
   "codemirror_mode": {
    "name": "ipython",
    "version": 3
   },
   "file_extension": ".py",
   "mimetype": "text/x-python",
   "name": "python",
   "nbconvert_exporter": "python",
   "pygments_lexer": "ipython3",
   "version": "3.9.18"
  },
  "orig_nbformat": 4
 },
 "nbformat": 4,
 "nbformat_minor": 2
}
