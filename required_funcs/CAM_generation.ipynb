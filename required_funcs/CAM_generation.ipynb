{
 "cells": [
  {
   "cell_type": "code",
   "execution_count": 19,
   "metadata": {},
   "outputs": [],
   "source": [
    "import os\n",
    "import numpy as np\n",
    "import tensorflow as tf\n",
    "import matplotlib.pyplot as plt\n",
    "import matplotlib as mpl\n",
    "from PIL import Image as PILImage\n",
    "from IPython.display import display, Image as IPImage\n",
    "from keras.preprocessing.image import load_img, img_to_array, array_to_img\n",
    "import keras.applications.xception as xception\n",
    "\n",
    "# Function to extract image name without extension\n",
    "def extract_image_name(filename):\n",
    "    return os.path.splitext(filename)[0]\n",
    "\n",
    "def generate_and_display_gradcam(img_path, model_builder, last_conv_layer_name, preprocess_input, decode_predictions, img_size=(299, 299), alpha=0.4, cam_path=\"save_cam_image.jpg\", original_name=None):\n",
    "    # Load image\n",
    "    def get_img_array(img_path, size):\n",
    "        img = load_img(img_path, target_size=size)\n",
    "        array = img_to_array(img)\n",
    "        array = np.expand_dims(array, axis=0)\n",
    "        return array\n",
    "\n",
    "    # Generate Grad-CAM heatmap\n",
    "    def make_gradcam_heatmap(img_array, model, last_conv_layer_name, pred_index=None):\n",
    "        grad_model = tf.keras.models.Model(\n",
    "            [model.inputs], [model.get_layer(last_conv_layer_name).output, model.output]\n",
    "        )\n",
    "\n",
    "        with tf.GradientTape() as tape:\n",
    "            last_conv_layer_output, preds = grad_model(img_array)\n",
    "            if pred_index is None:\n",
    "                pred_index = tf.argmax(preds[0])  #預測結果中的最高機率類別\n",
    "            class_channel = preds[:, pred_index] \n",
    "\n",
    "        grads = tape.gradient(class_channel, last_conv_layer_output) #每個像素在該類別中的重要性\n",
    "        pooled_grads = tf.reduce_mean(grads, axis=(0, 1, 2))\n",
    "\n",
    "        last_conv_layer_output = last_conv_layer_output[0]\n",
    "\n",
    "        #生成特徵圖\n",
    "        cam = tf.reduce_sum(tf.multiply(pooled_grads, last_conv_layer_output), axis=-1)\n",
    "        cam = tf.nn.relu(cam)\n",
    "\n",
    "        heatmap = cam / tf.reduce_max(cam)\n",
    "        return heatmap.numpy()\n",
    "\n",
    "    # Save and display Grad-CAM:存取在code所位於的目錄\n",
    "    def save_and_display_gradcam(img_path, heatmap, cam_path=\"save_cam_image.jpg\", alpha=0.4):\n",
    "        img = load_img(img_path)\n",
    "        img = img_to_array(img)\n",
    "\n",
    "        heatmap = np.uint8(255 * heatmap)\n",
    "\n",
    "        jet = mpl.cm.get_cmap(\"jet\")\n",
    "\n",
    "        jet_colors = jet(np.arange(256))[:, :3]\n",
    "        jet_heatmap = jet_colors[heatmap]\n",
    "\n",
    "        jet_heatmap = array_to_img(jet_heatmap)\n",
    "        jet_heatmap = jet_heatmap.resize((img.shape[1], img.shape[0]))\n",
    "        jet_heatmap = img_to_array(jet_heatmap)\n",
    "\n",
    "        Superimposed_img = jet_heatmap * alpha + img\n",
    "        Superimposed_img = array_to_img(Superimposed_img)\n",
    "\n",
    "        Superimposed_img.save(cam_path)\n",
    "        display(IPImage(cam_path))\n",
    "\n",
    "  \n",
    "    #各函式依順序執行\n",
    "    # Preprocess and prepare the image\n",
    "    img_array = preprocess_input(get_img_array(img_path, size=img_size))\n",
    "\n",
    "    # Make model with imagenet dataset\n",
    "    model = model_builder(weights=\"imagenet\")\n",
    "    model.layers[-1].activation = None\n",
    "\n",
    "    # Generate Grad-CAM heatmap\n",
    "    heatmap = make_gradcam_heatmap(img_array, model, last_conv_layer_name)\n",
    "\n",
    "    # Save and display Grad-CAM\n",
    "    save_and_display_gradcam(img_path, heatmap, cam_path=cam_path, alpha=alpha)\n"
   ]
  },
  {
   "cell_type": "markdown",
   "metadata": {},
   "source": [
    "執行大函式中包的三小函式"
   ]
  },
  {
   "cell_type": "code",
   "execution_count": 5,
   "metadata": {},
   "outputs": [
    {
     "name": "stderr",
     "output_type": "stream",
     "text": [
      "C:\\Users\\BOIL\\AppData\\Local\\Temp\\ipykernel_22620\\4145517893.py:54: MatplotlibDeprecationWarning: The get_cmap function was deprecated in Matplotlib 3.7 and will be removed two minor releases later. Use ``matplotlib.colormaps[name]`` or ``matplotlib.colormaps.get_cmap(obj)`` instead.\n",
      "  jet = mpl.cm.get_cmap(\"jet\")\n"
     ]
    },
    {
     "data": {
      "image/jpeg": "[encoded data removed]",
      "text/plain": [
       "<IPython.core.display.Image object>"
      ]
     },
     "metadata": {},
     "output_type": "display_data"
    }
   ],
   "source": [
    "output_png_path = r'D:\\OCT\\dental OCT\\bare tooth\\ensemble_model_aug\\code\\2024_6_13DC\\test_png\\cal\\01272_supra3_h_frame665.png'\n",
    "\n",
    "# Call the function with required parameters\n",
    "generate_and_display_gradcam(\n",
    "    img_path=output_png_path,\n",
    "    model_builder=xception.Xception,\n",
    "    last_conv_layer_name=\"block14_sepconv2_act\",\n",
    "    preprocess_input=xception.preprocess_input,\n",
    "    decode_predictions=xception.decode_predictions,\n",
    "    img_size=(299, 299),\n",
    "    alpha=0.4,\n",
    "    cam_path=\"save_cam_image.jpg\"\n",
    ")"
   ]
  },
  {
   "cell_type": "markdown",
   "metadata": {},
   "source": [
    "把整個folder的file都用gradCAM處理過"
   ]
  },
  {
   "cell_type": "markdown",
   "metadata": {},
   "source": [
    "利用OCT影像中的灰度值变化来检测和区分正常和异常的牙结石 ->"
   ]
  },
  {
   "cell_type": "markdown",
   "metadata": {},
   "source": [
    "使用Canny进行边缘检测：生成边缘图像。\n",
    "计算边缘的平滑度：通过计算边缘图像中的梯度变化或连通组件的形状特征来评估平滑度。\n",
    "设定阈值进行分类：根据平滑度指标将图像分类为牙结石或正常影像。"
   ]
  },
  {
   "cell_type": "markdown",
   "metadata": {},
   "source": [
    "測試threshold_multiotsu(有進展)"
   ]
  },
  {
   "cell_type": "markdown",
   "metadata": {},
   "source": [
    "成功圈選出grayscale輪廓"
   ]
  },
  {
   "cell_type": "code",
   "execution_count": 3,
   "metadata": {},
   "outputs": [],
   "source": [
    "import sys\n",
    "sys.path.append(r\"D:\\OCT\\dental OCT\\bare tooth\\ensemble_model_aug\\code\\reqiured_funcs\") #存取所需函式的路徑\n"
   ]
  },
  {
   "cell_type": "code",
   "execution_count": null,
   "metadata": {},
   "outputs": [],
   "source": [
    "from del_files import delete_files_in_directory\n",
    "\n",
    "output_dir = r'D:\\OCT\\dental OCT\\bare tooth\\ensemble_model_aug\\code\\2024_dentalCalculus\\CAL_png\\dental_calculus_profile'\n",
    "\n",
    "# # 刪除檔案\n",
    "delete_files_in_directory(output_dir)\n"
   ]
  },
  {
   "cell_type": "markdown",
   "metadata": {},
   "source": [
    "每張OCT加gradCAM"
   ]
  },
  {
   "cell_type": "code",
   "execution_count": null,
   "metadata": {},
   "outputs": [],
   "source": [
    "import glob\n",
    "\n",
    "# Process all images in the specified directory\n",
    "imgs_path = glob.glob(r'D:\\OCT\\dental OCT\\bare tooth\\ensemble_model_aug\\code\\2024_6_13DC\\test_png\\cal\\*.png')\n",
    "model_builder = xception.Xception  # Replace with your model\n",
    "last_conv_layer_name = 'block14_sepconv2_act'  # Replace with the name of the last convolutional layer in your model\n",
    "preprocess_input = xception.preprocess_input\n",
    "decode_predictions = xception.decode_predictions\n",
    "\n",
    "#建存cam影像目錄\n",
    "cam_path = r'D:\\OCT\\dental OCT\\bare tooth\\ensemble_model_aug\\code\\2024_6_13DC\\test_png\\cal_CAM'\n",
    "os.makedirs(cam_path, exist_ok=True)\n",
    "\n",
    "def extract_image_name(filename):\n",
    "    return os.path.splitext(filename)[0]\n",
    "\n",
    "# Loop through all image paths and generate Grad-CAM for each\n",
    "for img_path in imgs_path:\n",
    "    img_name = extract_image_name(os.path.basename(img_path))\n",
    "    cam_output_path = os.path.join(cam_path, f'{img_name}_cam.jpg')\n",
    "    # print(cam_output_path)\n",
    "    generate_and_display_gradcam(img_path, model_builder, last_conv_layer_name, preprocess_input, decode_predictions, cam_path=cam_output_path)"
   ]
  },
  {
   "cell_type": "code",
   "execution_count": null,
   "metadata": {},
   "outputs": [],
   "source": [
    "import glob\n",
    "\n",
    "# Process all images in the specified directory\n",
    "imgs_path = glob.glob(r'D:\\OCT\\dental OCT\\bare tooth\\ensemble_model_aug\\code\\2024_6_13DC\\test_png\\nor\\*.png')\n",
    "model_builder = xception.Xception  # Replace with your model\n",
    "last_conv_layer_name = 'block14_sepconv2_act'  # Replace with the name of the last convolutional layer in your model\n",
    "preprocess_input = xception.preprocess_input\n",
    "decode_predictions = xception.decode_predictions\n",
    "\n",
    "#建存cam影像目錄\n",
    "cam_path = r'D:\\OCT\\dental OCT\\bare tooth\\ensemble_model_aug\\code\\2024_6_13DC\\test_png\\nor_CAM'\n",
    "os.makedirs(cam_path, exist_ok=True)\n",
    "\n",
    "\n",
    "# Loop through all image paths and generate Grad-CAM for each\n",
    "for img_path in imgs_path:\n",
    "    img_name = extract_image_name(os.path.basename(img_path))\n",
    "    cam_output_path = os.path.join(cam_path, f'{img_name}_cam.jpg')\n",
    "    generate_and_display_gradcam(img_path, model_builder, last_conv_layer_name, preprocess_input, decode_predictions, cam_path=cam_output_path)"
   ]
  },
  {
   "cell_type": "code",
   "execution_count": 13,
   "metadata": {},
   "outputs": [],
   "source": [
    "import glob\n",
    "\n",
    "# Process all images in the specified directory\n",
    "imgs_path = glob.glob(r'D:\\OCT\\dental OCT\\bare tooth\\ensemble_model_aug\\code\\2024_dentalCalculus\\CAL_png\\*.png')\n",
    "model_builder = xception.Xception  # Replace with your model\n",
    "last_conv_layer_name = 'block14_sepconv2_act'  # Replace with the name of the last convolutional layer in your model\n",
    "preprocess_input = xception.preprocess_input\n",
    "decode_predictions = xception.decode_predictions\n",
    "\n",
    "#建存cam影像目錄\n",
    "cam_path = r'D:\\OCT\\dental OCT\\bare tooth\\ensemble_model_aug\\code\\2024_dentalCalculus\\CAL_png\\CAM_outputs'\n",
    "os.makedirs(cam_path, exist_ok=True)\n",
    "\n",
    "\n",
    "# Loop through all image paths and generate Grad-CAM for each\n",
    "for img_path in imgs_path:\n",
    "    img_name = extract_image_name(os.path.basename(img_path))\n",
    "    cam_output_path = os.path.join(r'D:\\OCT\\dental OCT\\bare tooth\\ensemble_model_aug\\code\\2024_dentalCalculus\\CAL_png\\CAM_outputs', f'{img_name}_cam.jpg')\n",
    "    generate_and_display_gradcam(img_path, model_builder, last_conv_layer_name, preprocess_input, decode_predictions, cam_path=cam_output_path)"
   ]
  },
  {
   "cell_type": "markdown",
   "metadata": {},
   "source": [
    "用6/13supra h新data 加CAM"
   ]
  },
  {
   "cell_type": "code",
   "execution_count": null,
   "metadata": {},
   "outputs": [],
   "source": [
    "import os\n",
    "import glob\n",
    "\n",
    "# 定义根目录\n",
    "root_dir = r'D:\\OCT\\dental OCT\\bare tooth\\ensemble_model_aug\\code\\2024_6_13DC\\test_png'\n",
    "\n",
    "# 找到所有以 'cal' 或 'nor' 开头的子目录\n",
    "sub_dirs = [os.path.join(root_dir, sub_dir) for sub_dir in os.listdir(root_dir) if os.path.isdir(os.path.join(root_dir, sub_dir)) and (sub_dir.startswith('cal') or sub_dir.startswith('nor'))]\n",
    "\n",
    "# 找到所有符合条件的PNG文件\n",
    "png_files = []\n",
    "for sub_dir in sub_dirs:\n",
    "    png_files.extend(glob.glob(os.path.join(sub_dir, '*.png')))\n",
    "\n",
    "# print(png_files)\n",
    "\n",
    "# Process all images in the specified directory\n",
    "# imgs_path = glob.glob(r'D:\\OCT\\dental OCT\\bare tooth\\ensemble_model_aug\\code\\2024_dentalCalculus\\CAL_png\\*.png')\n",
    "model_builder = xception.Xception  # Replace with your model\n",
    "last_conv_layer_name = 'block14_sepconv2_act'  # Replace with the name of the last convolutional layer in your model\n",
    "preprocess_input = xception.preprocess_input\n",
    "decode_predictions = xception.decode_predictions\n",
    "\n",
    "#建存cam影像目錄\n",
    "cam_path = r'D:\\OCT\\dental OCT\\bare tooth\\ensemble_model_aug\\code\\2024_6_13DC\\test_png\\CAM_outputs'\n",
    "os.makedirs(cam_path, exist_ok=True)\n",
    "\n",
    "\n",
    "# Loop through all image paths and generate Grad-CAM for each\n",
    "for img_path in png_files:\n",
    "    img_name = extract_image_name(os.path.basename(img_path))\n",
    "    cam_output_path = os.path.join(cam_path, f'{img_name}_cam.jpg')\n",
    "    generate_and_display_gradcam(img_path, model_builder, last_conv_layer_name, preprocess_input, decode_predictions, cam_path=cam_output_path)\n"
   ]
  },
  {
   "cell_type": "markdown",
   "metadata": {},
   "source": [
    "大函式解體，分別執行小函式(方便觀察)"
   ]
  },
  {
   "cell_type": "code",
   "execution_count": null,
   "metadata": {},
   "outputs": [],
   "source": [
    "import numpy as np\n",
    "import tensorflow as tf\n",
    "from tensorflow import keras\n",
    "from tensorflow.keras.preprocessing.image import load_img, img_to_array\n",
    "from IPython.display import Image as IPImage, display\n",
    "\n",
    "model_builder = keras.applications.xception.Xception\n",
    "img_size = (299, 299)\n",
    "preprocess_input = keras.applications.xception.preprocess_input\n",
    "decode_predictions = keras.applications.xception.decode_predictions\n",
    "\n",
    "last_conv_layer_name = \"block14_sepconv2_act\"\n",
    "\n",
    "output_png_path = r'\\\\BOIL-NAS\\home\\Dental OCT\\tooth_data_png\\201903220033.png'\n",
    "\n",
    "# 打开 TIFF 文件\n",
    "\n",
    "#display(IPImage(img_path))  # 秀原圖\n",
    "display(IPImage(output_png_path))\n",
    "\n",
    "\n",
    "\"\"\"利用load_img載入圖像並用img_to_array轉成array，並擴展維度，跟pretrained好的Xception model互相匹配\"\"\"\n",
    "def get_img_array(img_path, size):\n",
    "    ## `img` is a PIL image \n",
    "    img = load_img(img_path, target_size=size)\n",
    "    array = img_to_array(img)\n",
    "    ## We add a dimension to transform our array into a \"batch\" : because model expect input_shape:(batch_size, height, width, channels)\n",
    "    array = np.expand_dims(array, axis=0)\n",
    "    return array\n",
    "\n",
    "\"\"\"從輸入映射到輸出\"\"\"\n",
    "def make_gradcam_heatmap(img_array, model, last_conv_layer_name, pred_index=None):\n",
    "    ## First, we create a model that maps the input image to the activations\n",
    "    ## of the last conv layer as well as the output predictions\n",
    "    grad_model = keras.models.Model(\n",
    "        model.inputs, [model.get_layer(last_conv_layer_name).output, model.output]\n",
    "    )\n",
    "\n",
    "    ## Then, we compute the gradient of the top predicted class for our input image\n",
    "    ## for the activations of the last conv layer\n",
    "    with tf.GradientTape() as tape:\n",
    "        last_conv_layer_output, preds = grad_model(img_array)\n",
    "        if pred_index is None:\n",
    "            pred_index = tf.argmax(preds[0])\n",
    "        class_channel = preds[:, pred_index]\n",
    "\n",
    "    ## We are doing transfer learning on last layer\n",
    "    grads = tape.gradient(class_channel, last_conv_layer_output)\n",
    "\n",
    "    ## This is a vector where each entry is the mean intensity of the gradient : use global average pooling\n",
    "    pooled_grads = tf.reduce_mean(grads, axis=(0, 1, 2))\n",
    "\n",
    "\n",
    "    ## calculates a heatmap highlighting the regions of importance in an image\n",
    "    ## for a specific \n",
    "    ## predicted class by combining the output of the last convolutional layer\n",
    "    ## with the pooled gradients.\n",
    "    last_conv_layer_output = last_conv_layer_output[0]\n",
    "\n",
    "    #原本算法\n",
    "    # heatmap = last_conv_layer_output @ pooled_grads[..., tf.newaxis]  # GAP\n",
    "    # heatmap = tf.squeeze(heatmap)\n",
    "\n",
    "    # ## For visualization purpose\n",
    "    # heatmap = tf.maximum(heatmap, 0) / tf.math.reduce_max(heatmap)\n",
    "\n",
    "    #試看看別種計算grad方式，看是否能降噪\n",
    "    # 计算CAM\n",
    "    cam = tf.reduce_sum(tf.multiply(pooled_grads, last_conv_layer_output), axis=-1)\n",
    "    cam = tf.nn.relu(cam)\n",
    "\n",
    "    # 归一化CAM\n",
    "    heatmap = cam / tf.reduce_max(cam)\n",
    "\n",
    "    return heatmap.numpy()"
   ]
  },
  {
   "cell_type": "code",
   "execution_count": null,
   "metadata": {},
   "outputs": [],
   "source": [
    "## Preparing the image\n",
    "img_array = preprocess_input(get_img_array(output_png_path, size=img_size))\n",
    "\n",
    "## Making the model with imagenet dataset\n",
    "model = model_builder(weights=\"imagenet\")\n",
    "\n",
    "## Remove last layer's softmax(transfer learning)\n",
    "model.layers[-1].activation = None\n",
    "\n",
    "preds = model.predict(img_array)\n",
    "print(\"Predicted of image:\", decode_predictions(preds, top=1)[0])\n",
    "\n",
    "## Generate class activation heatmap\n",
    "heatmap = make_gradcam_heatmap(img_array, model, last_conv_layer_name)\n"
   ]
  },
  {
   "cell_type": "code",
   "execution_count": null,
   "metadata": {},
   "outputs": [],
   "source": [
    "def save_and_display_gradcam(img_path, heatmap, cam_path=\"save_cam_image.jpg\", alpha=0.4):\n",
    "    ## Loading the original image\n",
    "    img = load_img(img_path)\n",
    "    img = img_to_array(img)\n",
    "\n",
    "    ## Rescale heatmap to a range 0-255\n",
    "    heatmap = np.uint8(255 * heatmap)\n",
    "\n",
    "    ## Use jet colormap to colorize heatmap\n",
    "    jet = mpl.colormaps[\"jet\"]\n",
    "\n",
    "    jet_colors = jet(np.arange(256))[:, :3]\n",
    "    jet_heatmap = jet_colors[heatmap]\n",
    "\n",
    "    ## Create an image with RGB colorized heatmap\n",
    "    jet_heatmap = array_to_img(jet_heatmap)\n",
    "    jet_heatmap = jet_heatmap.resize((img.shape[1], img.shape[0]))\n",
    "    jet_heatmap = img_to_array(jet_heatmap)\n",
    "\n",
    "    ## Superimpose the heatmap on original image\n",
    "    Superimposed_img = jet_heatmap * alpha + img\n",
    "    Superimposed_img = array_to_img(Superimposed_img)\n",
    "\n",
    "    ## Save the superimposed image\n",
    "    Superimposed_img.save(cam_path)\n",
    "   \n",
    "\n",
    "    ## Displaying Grad CAM\n",
    "    display(IPImage(cam_path))\n",
    "\n",
    "\n",
    "save_and_display_gradcam(output_png_path, heatmap)"
   ]
  },
  {
   "cell_type": "markdown",
   "metadata": {},
   "source": [
    "for loop處理整個folder的圖片，轉為grad-CAM(之前跑的影像會有失真，尚未解決)"
   ]
  },
  {
   "cell_type": "code",
   "execution_count": null,
   "metadata": {},
   "outputs": [],
   "source": [
    "import os\n",
    "output_png_path = r'\\\\BOIL-NAS\\homes\\311514061\\Dental OCT\\tooth_data_png'\n",
    "save_cam_path=r'\\\\BOIL-NAS\\homes\\311514061\\Dental OCT\\tooth_data_cam'\n",
    "os.makedirs(save_cam_path,exist_ok=True)\n",
    "\n",
    "\n",
    "\n",
    "# Get a sorted list of filenames\n",
    "sorted_filenames = sorted([filename for filename in os.listdir(output_png_path) if filename.endswith('.png')])  # 照順序輸出png檔\n",
    "for filename in sorted_filenames:\n",
    "    #print(filename)\n",
    "    img_array = preprocess_input(get_img_array(output_png_path, size=img_size))\n",
    "\n",
    "\n",
    "    preds = model.predict(img_array)\n",
    "    \n",
    "    ## Generate class activation heatmap\n",
    "    heatmap = make_gradcam_heatmap(img_array, model, last_conv_layer_name)\n",
    "    save_and_display_gradcam(output_png_path, heatmap, cam_path=os.path.join(save_cam_path, filename))"
   ]
  }
 ],
 "metadata": {
  "kernelspec": {
   "display_name": "tf25",
   "language": "python",
   "name": "python3"
  },
  "language_info": {
   "codemirror_mode": {
    "name": "ipython",
    "version": 3
   },
   "file_extension": ".py",
   "mimetype": "text/x-python",
   "name": "python",
   "nbconvert_exporter": "python",
   "pygments_lexer": "ipython3",
   "version": "3.9.18"
  }
 },
 "nbformat": 4,
 "nbformat_minor": 2
}
